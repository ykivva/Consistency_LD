{
 "cells": [
  {
   "cell_type": "code",
   "execution_count": 102,
   "metadata": {},
   "outputs": [],
   "source": [
    "import torch\n",
    "import torch.nn as nn\n",
    "from torch.utils.data import Dataset, DataLoader\n",
    "\n",
    "# Parameters and DataLoaders\n",
    "input_size = 5\n",
    "output_size = 2\n",
    "mid_size = 4\n",
    "\n",
    "batch_size = 30\n",
    "data_size = 100"
   ]
  },
  {
   "cell_type": "code",
   "execution_count": 103,
   "metadata": {},
   "outputs": [],
   "source": [
    "device = torch.device(\"cuda\" if torch.cuda.is_available() else \"cpu\")\n",
    "DEVICE = torch.device(\"cuda\" if torch.cuda.is_available() else \"cpu\")\n",
    "USE_CUDA = torch.cuda.is_available()\n"
   ]
  },
  {
   "cell_type": "code",
   "execution_count": 104,
   "metadata": {},
   "outputs": [
    {
     "name": "stdout",
     "output_type": "stream",
     "text": [
      "None\n"
     ]
    },
    {
     "name": "stderr",
     "output_type": "stream",
     "text": [
      "<ipython-input-104-42163b2ce9d9>:7: UserWarning: The .grad attribute of a Tensor that is not a leaf Tensor is being accessed. Its .grad attribute won't be populated during autograd.backward(). If you indeed want the gradient for a non-leaf Tensor, use .retain_grad() on the non-leaf Tensor. If you access the non-leaf Tensor by mistake, make sure you access the leaf Tensor instead. See github.com/pytorch/pytorch/pull/30531 for more informations.\n",
      "  print(y.grad)\n"
     ]
    }
   ],
   "source": [
    "import torch\n",
    "x = torch.ones(2, 2, requires_grad=True)\n",
    "y = x + 2\n",
    "z = y * y * 3\n",
    "out = z.mean()\n",
    "out.backward()\n",
    "print(y.grad)"
   ]
  },
  {
   "cell_type": "code",
   "execution_count": 125,
   "metadata": {},
   "outputs": [],
   "source": [
    "import itertools\n",
    "s = \"abcd\"\n",
    "\n",
    "s = list(itertools.islice(s, 1))"
   ]
  },
  {
   "cell_type": "code",
   "execution_count": 128,
   "metadata": {},
   "outputs": [
    {
     "ename": "TypeError",
     "evalue": "namedtuple() missing 2 required positional arguments: 'typename' and 'field_names'",
     "output_type": "error",
     "traceback": [
      "\u001b[0;31m---------------------------------------------------------------------------\u001b[0m",
      "\u001b[0;31mTypeError\u001b[0m                                 Traceback (most recent call last)",
      "\u001b[0;32m<ipython-input-128-24106bf2159a>\u001b[0m in \u001b[0;36m<module>\u001b[0;34m\u001b[0m\n\u001b[1;32m      1\u001b[0m \u001b[0;32mfrom\u001b[0m \u001b[0mcollections\u001b[0m \u001b[0;32mimport\u001b[0m \u001b[0mnamedtuple\u001b[0m\u001b[0;34m\u001b[0m\u001b[0;34m\u001b[0m\u001b[0m\n\u001b[0;32m----> 2\u001b[0;31m \u001b[0ms\u001b[0m \u001b[0;34m=\u001b[0m \u001b[0mnamedtuple\u001b[0m\u001b[0;34m(\u001b[0m\u001b[0;34m)\u001b[0m\u001b[0;34m\u001b[0m\u001b[0;34m\u001b[0m\u001b[0m\n\u001b[0m",
      "\u001b[0;31mTypeError\u001b[0m: namedtuple() missing 2 required positional arguments: 'typename' and 'field_names'"
     ]
    }
   ],
   "source": [
    "from collections import namedtuple\n",
    "s = namedtuple()"
   ]
  },
  {
   "cell_type": "code",
   "execution_count": 129,
   "metadata": {},
   "outputs": [],
   "source": [
    "error_pairs = {\"n(x)\": \"n\", \"r(x)\": \"r\"}"
   ]
  },
  {
   "cell_type": "code",
   "execution_count": 161,
   "metadata": {},
   "outputs": [],
   "source": [
    "error_pairs = {\"n(x)\": \"n\", \"r(x)\": \"r\"}\n",
    "error_names = [f\"{path}->{error_pairs[path]}\" for path in error_pairs.keys()]"
   ]
  },
  {
   "cell_type": "code",
   "execution_count": 162,
   "metadata": {},
   "outputs": [
    {
     "data": {
      "text/plain": [
       "['n(x)->n', 'r(x)->r']"
      ]
     },
     "execution_count": 162,
     "metadata": {},
     "output_type": "execute_result"
    }
   ],
   "source": [
    "error_names"
   ]
  },
  {
   "cell_type": "code",
   "execution_count": 159,
   "metadata": {},
   "outputs": [],
   "source": [
    "error_names\n",
    "PathOut = namedtuple(\"PathOut\", error_names, defaults=[])"
   ]
  },
  {
   "cell_type": "code",
   "execution_count": 160,
   "metadata": {},
   "outputs": [
    {
     "ename": "TypeError",
     "evalue": "__new__() missing 2 required positional arguments: 'n_x__to_n' and 'r_x__to_r'",
     "output_type": "error",
     "traceback": [
      "\u001b[0;31m---------------------------------------------------------------------------\u001b[0m",
      "\u001b[0;31mTypeError\u001b[0m                                 Traceback (most recent call last)",
      "\u001b[0;32m<ipython-input-160-fe57eff4cc75>\u001b[0m in \u001b[0;36m<module>\u001b[0;34m\u001b[0m\n\u001b[0;32m----> 1\u001b[0;31m \u001b[0mimages\u001b[0m \u001b[0;34m=\u001b[0m \u001b[0mPathOut\u001b[0m\u001b[0;34m(\u001b[0m\u001b[0;34m)\u001b[0m\u001b[0;34m\u001b[0m\u001b[0;34m\u001b[0m\u001b[0m\n\u001b[0m",
      "\u001b[0;31mTypeError\u001b[0m: __new__() missing 2 required positional arguments: 'n_x__to_n' and 'r_x__to_r'"
     ]
    }
   ],
   "source": [
    "images = PathOut()"
   ]
  },
  {
   "cell_type": "code",
   "execution_count": 155,
   "metadata": {},
   "outputs": [
    {
     "ename": "TypeError",
     "evalue": "'type' object is not subscriptable",
     "output_type": "error",
     "traceback": [
      "\u001b[0;31m---------------------------------------------------------------------------\u001b[0m",
      "\u001b[0;31mTypeError\u001b[0m                                 Traceback (most recent call last)",
      "\u001b[0;32m<ipython-input-155-b4094cb7f6a0>\u001b[0m in \u001b[0;36m<module>\u001b[0;34m\u001b[0m\n\u001b[0;32m----> 1\u001b[0;31m \u001b[0mimages\u001b[0m\u001b[0;34m[\u001b[0m\u001b[0;36m0\u001b[0m\u001b[0;34m]\u001b[0m\u001b[0;34m\u001b[0m\u001b[0;34m\u001b[0m\u001b[0m\n\u001b[0m",
      "\u001b[0;31mTypeError\u001b[0m: 'type' object is not subscriptable"
     ]
    }
   ],
   "source": [
    "images[0]"
   ]
  },
  {
   "cell_type": "code",
   "execution_count": 105,
   "metadata": {},
   "outputs": [],
   "source": [
    "class RandomDataset(Dataset):\n",
    "\n",
    "    def __init__(self, size, length):\n",
    "        self.len = length\n",
    "        self.data = torch.randn(length, size)\n",
    "\n",
    "    def __getitem__(self, index):\n",
    "        return self.data[index]\n",
    "\n",
    "    def __len__(self):\n",
    "        return self.len\n",
    "\n",
    "rand_loader = DataLoader(dataset=RandomDataset(input_size, data_size),\n",
    "                         batch_size=batch_size, shuffle=True)"
   ]
  },
  {
   "cell_type": "code",
   "execution_count": 106,
   "metadata": {},
   "outputs": [],
   "source": [
    "class Model(nn.Module):\n",
    "    # Our model\n",
    "\n",
    "    def __init__(self, input_size, output_size):\n",
    "        super(Model, self).__init__()\n",
    "        self.in_size = input_size\n",
    "        self.out_size = output_size\n",
    "        self.fc = nn.Linear(input_size, output_size)\n",
    "\n",
    "    def forward(self, input):\n",
    "        output = self.fc(input)\n",
    "        print(\"\\tIn Model: input size\", input.size(),\n",
    "              \"output size\", output.size())\n",
    "\n",
    "        return output"
   ]
  },
  {
   "cell_type": "code",
   "execution_count": 107,
   "metadata": {},
   "outputs": [],
   "source": [
    "class ComplexModel(nn.Module):\n",
    "    \n",
    "    def __init__(self, block=[]):\n",
    "        super().__init__()\n",
    "        self.blocks = nn.ModuleList(block)\n",
    "    \n",
    "    def forward(self, x):\n",
    "        for model in self.blocks:\n",
    "            x = model(x)\n",
    "        return x"
   ]
  },
  {
   "cell_type": "code",
   "execution_count": 108,
   "metadata": {},
   "outputs": [],
   "source": [
    "class Transfer(nn.Module):\n",
    "    \n",
    "    def __init__(self, model):\n",
    "        super().__init__()\n",
    "        self.model = model\n",
    "    \n",
    "    def to_parallel(self):\n",
    "        self.model = self.model.to(DEVICE)\n",
    "        if USE_CUDA:\n",
    "            self.model = nn.DataParallel(self.model)\n",
    "    \n",
    "    def __call__(self, x):\n",
    "        self.to_parallel()\n",
    "        x = self.model(x)\n",
    "        return x"
   ]
  },
  {
   "cell_type": "code",
   "execution_count": 123,
   "metadata": {},
   "outputs": [],
   "source": [
    "class Graph(nn.Module):\n",
    "    \n",
    "    def __init__(self, in_size, mid_size, out_size):\n",
    "        super().__init__()\n",
    "        model1 = Model(in_size, mid_size)\n",
    "        model2 = Model(mid_size, out_size)\n",
    "        model3 = Model(mid_size, out_size)\n",
    "        self.edge_out = {str((in_size, mid_size)): model1}\n",
    "        self.edge_in = {str((mid_size, out_size))+\"1\": model2, str((mid_size, out_size))+\"2\": model3}\n",
    "        complex_model1 = ComplexModel(block=[self.edge_out[str((in_size, mid_size))], self.edge_in[str((mid_size, out_size))+\"1\"]]) \n",
    "        complex_model2 = ComplexModel(block=[self.edge_out[str((in_size, mid_size))], self.edge_in[str((mid_size, out_size))+\"2\"]])\n",
    "        \n",
    "#         self.params = {}\n",
    "#         self.params.update(self.edge_in)\n",
    "#         self.params.update(self.edge_out)\n",
    "        self.params = {\"1\":complex_model1, \"2\":complex_model2}\n",
    "        self.params = nn.ModuleDict(self.params)\n",
    "        print(self.params.keys())\n",
    "        #self.params = nn.ModuleDict(self.params)\n",
    "        #print(id(self.params[str((in_size, mid_size))]))\n",
    "        transfer1 = Transfer(complex_model1)\n",
    "        transfer2 = Transfer(complex_model2)\n",
    "        self.models = {\n",
    "            1: transfer1,\n",
    "            2: transfer2,\n",
    "        }\n",
    "\n",
    "    \n",
    "    def compute_path(self, data, paths=[1]):\n",
    "        for path in paths:\n",
    "            pred = self.models[path](data)\n",
    "        return pred\n",
    "        "
   ]
  },
  {
   "cell_type": "code",
   "execution_count": 124,
   "metadata": {},
   "outputs": [
    {
     "name": "stdout",
     "output_type": "stream",
     "text": [
      "odict_keys(['1', '2'])\n",
      "6\n"
     ]
    }
   ],
   "source": [
    "new_model = Graph(5, 3, 1)\n",
    "i = 0\n",
    "for param in new_model.parameters():\n",
    "    i+=1\n",
    "print(i)"
   ]
  },
  {
   "cell_type": "code",
   "execution_count": 118,
   "metadata": {},
   "outputs": [
    {
     "name": "stdout",
     "output_type": "stream",
     "text": [
      "odict_keys(['1', '2'])\n",
      "Parameter containing:\n",
      "tensor([[-0.0025,  0.4084, -0.0397,  0.1268, -0.1185],\n",
      "        [ 0.2268,  0.3659,  0.1232,  0.1255, -0.0987],\n",
      "        [-0.2927, -0.1250, -0.0806,  0.3706, -0.3717]], requires_grad=True)\n",
      "Parameter containing:\n",
      "tensor([-0.0472,  0.2329,  0.3608], requires_grad=True)\n",
      "Parameter containing:\n",
      "tensor([[-0.4971,  0.0874,  0.0073]], requires_grad=True)\n",
      "Parameter containing:\n",
      "tensor([-0.0401], requires_grad=True)\n",
      "Parameter containing:\n",
      "tensor([[ 0.2731, -0.1283, -0.2387]], requires_grad=True)\n",
      "Parameter containing:\n",
      "tensor([-0.1481], requires_grad=True)\n"
     ]
    }
   ],
   "source": [
    "new_model = Graph(5, 3, 1)\n",
    "i = 0\n",
    "for param in new_model.parameters():\n",
    "    i+=1\n",
    "print(i)"
   ]
  },
  {
   "cell_type": "code",
   "execution_count": 72,
   "metadata": {},
   "outputs": [
    {
     "name": "stdout",
     "output_type": "stream",
     "text": [
      "139955367158544\n",
      "139955367158544\n",
      "OrderedDict([('params.(3, 1)1.fc.weight', tensor([[ 0.2868,  0.4138, -0.3961]])), ('params.(3, 1)1.fc.bias', tensor([-0.2932])), ('params.(3, 1)2.fc.weight', tensor([[0.0177, 0.4977, 0.1249]])), ('params.(3, 1)2.fc.bias', tensor([-0.2039])), ('params.(5, 3).fc.weight', tensor([[ 0.4354,  0.4455, -0.3568, -0.1309,  0.1331],\n",
      "        [-0.2123,  0.0450,  0.2694,  0.1094, -0.0351],\n",
      "        [-0.3255, -0.4168,  0.2886,  0.0686,  0.4170]])), ('params.(5, 3).fc.bias', tensor([ 0.2080, -0.0991, -0.0649]))])\n"
     ]
    }
   ],
   "source": [
    "new_model = Graph(5, 3, 1)\n",
    "\n",
    "print(new_model.state_dict())"
   ]
  },
  {
   "cell_type": "code",
   "execution_count": 91,
   "metadata": {},
   "outputs": [
    {
     "name": "stdout",
     "output_type": "stream",
     "text": [
      "\tIn Model: input size torch.Size([15, 5]) output size torch.Size([15, 3])\n",
      "\tIn Model: input size torch.Size([15, 5]) output size torch.Size([15, 3])\n",
      "\tIn Model: input size\tIn Model: input size torch.Size([15, 3]) output size torch.Size([15, 1])\n",
      " torch.Size([15, 3]) output size torch.Size([15, 1])\n",
      "\tIn Model: input size \tIn Model: input size torch.Size([15, 5]) output size torch.Size([15, 3])\n",
      "torch.Size([15, 5]) output size torch.Size([15, 3])\n",
      "\tIn Model: input size torch.Size([15, 3]) output size torch.Size([15, 1])\n",
      "\tIn Model: input size torch.Size([15, 3]) output size torch.Size([15, 1])\n",
      "tensor([[ 0.0142, -0.0033, -0.0102,  0.0031,  0.0053],\n",
      "        [ 0.0134, -0.0031, -0.0097,  0.0030,  0.0050],\n",
      "        [ 0.1034, -0.0237, -0.0744,  0.0228,  0.0383]], device='cuda:0')\n",
      "Outside: input size torch.Size([30, 5]) output_size torch.Size([30, 1])\n",
      "\tIn Model: input size torch.Size([8, 5]) output size torch.Size([8, 3])\n",
      "\tIn Model: input size torch.Size([8, 5]) output size torch.Size([8, 3])\n",
      "\tIn Model: input size torch.Size([7, 5]) output size torch.Size([7, 3])\n",
      "\tIn Model: input size \tIn Model: input sizetorch.Size([8, 3]) output size torch.Size([8, 1])\n",
      "\tIn Model: input size torch.Size([7, 5]) output size torch.Size([7, 3])\n",
      "\tIn Model: input size  torch.Size([8, 3]) output size torch.Size([8, 1])\n",
      "torch.Size([7, 3]) output size \tIn Model: input size torch.Size([7, 3]) output size torch.Size([7, 1])\n",
      "torch.Size([7, 1])\n",
      "\tIn Model: input size torch.Size([8, 5]) output size torch.Size([8, 3])\n",
      "\tIn Model: input size torch.Size([8, 5]) output size torch.Size([8, 3])\n",
      "\tIn Model: input size torch.Size([8, 3]) output size torch.Size([8, 1])\n",
      "\tIn Model: input size torch.Size([8, 3]) output size torch.Size([8, 1])\n",
      "\tIn Model: input size torch.Size([7, 5]) output size torch.Size([7, 3])\n",
      "\tIn Model: input size torch.Size([7, 5]) output size torch.Size([7, 3])\n",
      "\tIn Model: input size torch.Size([7, 3]) output size torch.Size([7, 1])\n",
      "\tIn Model: input size torch.Size([7, 3]) output size torch.Size([7, 1])\n",
      "tensor([[0.0063, 0.0041, 0.0218, 0.0258, 0.0073],\n",
      "        [0.0060, 0.0039, 0.0207, 0.0244, 0.0069],\n",
      "        [0.0459, 0.0299, 0.1592, 0.1883, 0.0535]], device='cuda:0')\n",
      "Outside: input size torch.Size([30, 5]) output_size torch.Size([30, 1])\n",
      "\tIn Model: input size torch.Size([4, 5]) output size torch.Size([4, 3])\n",
      "\tIn Model: input size torch.Size([4, 5]) output size torch.Size([4, 3])\n",
      "\tIn Model: input size torch.Size([4, 5]) output size torch.Size([4, 3])\n",
      "\tIn Model: input size torch.Size([4, 5]) output size torch.Size([4, 3])\n",
      "\tIn Model: input size torch.Size([3, 5]) output size torch.Size([3, 3])\n",
      "\tIn Model: input size torch.Size([4, 3]) output size torch.Size([4, 1])\n",
      "\tIn Model: input size torch.Size([4, 3]) output size \tIn Model: input size\tIn Model: input size\tIn Model: input sizetorch.Size([4, 1])\n",
      " torch.Size([4, 3]) output size torch.Size([4, 1])\n",
      " torch.Size([4, 3]) output size torch.Size([4, 1])\n",
      "\tIn Model: input size torch.Size([4, 5]) output size torch.Size([4, 3])\n",
      "\tIn Model: input size torch.Size([4, 5]) output size torch.Size([4, 3])\n",
      " \tIn Model: input size\tIn Model: input size torch.Size([4, 3]) output size torch.Size([4, 1])\n",
      " torch.Size([4, 3]) output sizetorch.Size([3, 3]) output size torch.Size([3, 1])\n",
      " torch.Size([4, 1])\n",
      "\tIn Model: input size torch.Size([3, 5]) output size torch.Size([3, 3])\n",
      "\tIn Model: input size torch.Size([3, 3]) output size torch.Size([3, 1])\n",
      "\tIn Model: input size torch.Size([4, 5]) output size\tIn Model: input size torch.Size([4, 5]) output size torch.Size([4, 3])\n",
      "\tIn Model: input size torch.Size([4, 5]) output size torch.Size([4, 3])\n",
      "\tIn Model: input size torch.Size([4, 5]) output size torch.Size([4, 3])\n",
      "\tIn Model: input size \tIn Model: input size torch.Size([4, 5]) output size torch.Size([4, 3])\n",
      "torch.Size([4, 3])\n",
      "\tIn Model: input size  torch.Size([4, 3]) output size torch.Size([4, 1])\n",
      "torch.Size([4, 3]) output size torch.Size([4, 1])\n",
      "\tIn Model: input size torch.Size([3, 5]) output size torch.Size([3, 3])\n",
      "\tIn Model: input size\tIn Model: input size\tIn Model: input size torch.Size([4, 5]) output size torch.Size([4, 3])\n",
      " torch.Size([4, 3]) output size torch.Size([4, 1])\n",
      "\tIn Model: input size\tIn Model: input size torch.Size([4, 3]) output size torch.Size([4, 1])\n",
      " torch.Size([3, 3]) output size torch.Size([3, 1])\n",
      "\tIn Model: input size torch.Size([3, 5]) output size torch.Size([3, 3])\n",
      " torch.Size([4, 3]) output size torch.Size([4, 1])\n",
      "\tIn Model: input size torch.Size([4, 3]) output size torch.Size([4, 1])\n",
      "\tIn Model: input size torch.Size([3, 3]) output size torch.Size([3, 1])\n",
      "tensor([[ 0.0185,  0.0083,  0.0091,  0.0422, -0.0056],\n",
      "        [ 0.0175,  0.0078,  0.0086,  0.0400, -0.0053],\n",
      "        [ 0.1350,  0.0604,  0.0663,  0.3079, -0.0410]], device='cuda:0')\n",
      "Outside: input size torch.Size([30, 5]) output_size torch.Size([30, 1])\n",
      "\tIn Model: input size torch.Size([1, 5]) output size torch.Size([1, 3])\n",
      "\tIn Model: input size torch.Size([1, 5]) output size torch.Size([1, 3])\tIn Model: input size torch.Size([1, 3]) output size torch.Size([1, 1])\n",
      "\n",
      "\tIn Model: input size torch.Size([1, 5]) output size torch.Size([1, 3])\n",
      "\tIn Model: input size\tIn Model: input size torch.Size([1, 5]) output size torch.Size([1, 3])\n",
      "\tIn Model: input size torch.Size([1, 5]) output size torch.Size([1, 3])\n",
      " torch.Size([1, 5]) output size torch.Size([1, 3])\n",
      "\tIn Model: input size torch.Size([1, 5])\tIn Model: input size\tIn Model: input size \tIn Model: input size torch.Size([1, 3]) output size torch.Size([1, 1])\n",
      " torch.Size([1, 3]) output size torch.Size([1, 1])\n",
      "\tIn Model: input size torch.Size([1, 5]) output size torch.Size([1, 3])\n",
      "\tIn Model: input size torch.Size([1, 5]) output size torch.Size([1, 3])\n",
      "\tIn Model: input size\tIn Model: input size torch.Size([1, 3]) output size torch.Size([1, 1])\n",
      "\tIn Model: input size torch.Size([1, 3]) output size torch.Size([1, 1])\n",
      " torch.Size([1, 3]) torch.Size([1, 3]) output size torch.Size([1, 1]) output size torch.Size([1, 1])\n",
      "\n",
      "output size torch.Size([1, 3])\n",
      "\tIn Model: input size\tIn Model: input size\tIn Model: input size torch.Size([1, 5]) output size torch.Size([1, 3])\n",
      " torch.Size([1, 3]) output size torch.Size([1, 3]) output size torch.Size([1, 1])\n",
      " torch.Size([1, 1])\n",
      "\tIn Model: input size torch.Size([1, 3]) output size torch.Size([1, 1])\n",
      "\tIn Model: input size torch.Size([1, 5]) output size torch.Size([1, 3])\n",
      "\tIn Model: input size torch.Size([1, 5]) output size torch.Size([1, 3])\n",
      "\tIn Model: input size\tIn Model: input size\tIn Model: input size\tIn Model: input size torch.Size([1, 5]) output size torch.Size([1, 3])\n",
      "\tIn Model: input size torch.Size([1, 3]) \tIn Model: input size torch.Size([1, 3]) output size torch.Size([1, 1])\n",
      " torch.Size([1, 5]) output size torch.Size([1, 3])\n",
      " torch.Size([1, 5]) output size torch.Size([1, 3])\n",
      "\tIn Model: input size torch.Size([1, 5]) output size torch.Size([1, 3])\n",
      "\tIn Model: input size torch.Size([1, 5]) output size torch.Size([1, 3])\n",
      "\tIn Model: input size torch.Size([1, 5]) output size torch.Size([1, 3])\n",
      "output size torch.Size([1, 1])\n",
      "\tIn Model: input size\tIn Model: input size torch.Size([1, 3]) output size torch.Size([1, 1])\n",
      "\tIn Model: input size torch.Size([1, 3]) output size torch.Size([1, 1])\n",
      " \tIn Model: input size torch.Size([1, 3]) output size torch.Size([1, 1])\n",
      "torch.Size([1, 3]) torch.Size([1, 3]) output size torch.Size([1, 1])\n",
      "\tIn Model: input size output size torch.Size([1, 1])\n",
      "\tIn Model: input size torch.Size([1, 5]) output size torch.Size([1, 3])\n",
      " torch.Size([1, 3]) output size torch.Size([1, 1])\n",
      "\tIn Model: input size torch.Size([1, 3]) output size torch.Size([1, 1])\n",
      "\tIn Model: input size torch.Size([1, 5]) output size torch.Size([1, 3])\n",
      "\tIn Model: input size torch.Size([1, 3]) output size torch.Size([1, 1])\n",
      "tensor([[ 0.0098,  0.0483, -0.0133,  0.0249,  0.0085],\n",
      "        [ 0.0092,  0.0458, -0.0126,  0.0236,  0.0081],\n",
      "        [ 0.0712,  0.3527, -0.0971,  0.1820,  0.0622]], device='cuda:0')\n",
      "Outside: input size torch.Size([10, 5]) output_size torch.Size([10, 1])\n"
     ]
    }
   ],
   "source": [
    "for data in rand_loader:\n",
    "    input = data.to(DEVICE)\n",
    "    output = new_model.compute_path(input, paths=[1, 2])\n",
    "    loss = output.mean().backward()\n",
    "    target_weights = list(new_model.parameters())\n",
    "    print(target_weights[0].grad)\n",
    "    print(\"Outside: input size\", input.size(),\n",
    "          \"output_size\", output.size())"
   ]
  },
  {
   "cell_type": "code",
   "execution_count": 48,
   "metadata": {},
   "outputs": [
    {
     "name": "stdout",
     "output_type": "stream",
     "text": [
      "Let's use 2 GPUs!\n"
     ]
    },
    {
     "data": {
      "text/plain": [
       "DataParallel(\n",
       "  (module): ComplexModel(\n",
       "    (blocks): ModuleList(\n",
       "      (0): Model(\n",
       "        (fc): Linear(in_features=5, out_features=4, bias=True)\n",
       "      )\n",
       "      (1): Model(\n",
       "        (fc): Linear(in_features=4, out_features=2, bias=True)\n",
       "      )\n",
       "    )\n",
       "  )\n",
       ")"
      ]
     },
     "execution_count": 48,
     "metadata": {},
     "output_type": "execute_result"
    }
   ],
   "source": [
    "if torch.cuda.device_count() > 1:\n",
    "    print(\"Let's use\", torch.cuda.device_count(), \"GPUs!\")\n",
    "    # dim = 0 [30, xxx] -> [10, ...], [10, ...], [10, ...] on 3 GPUs\n",
    "    new_model = nn.DataParallel(complex_model1)\n",
    "    \n",
    "\n",
    "new_model.to(device)"
   ]
  },
  {
   "cell_type": "code",
   "execution_count": 49,
   "metadata": {},
   "outputs": [
    {
     "name": "stdout",
     "output_type": "stream",
     "text": [
      "\tIn Model: input size torch.Size([15, 5]) output size torch.Size([15, 4])\n",
      "\tIn Model: input size torch.Size([15, 5]) output size torch.Size([15, 4])\n",
      "\tIn Model: input size torch.Size([15, 4]) output size torch.Size([15, 2])\n",
      "\tIn Model: input size torch.Size([15, 4]) output size torch.Size([15, 2])\n",
      "Outside: input size torch.Size([30, 5]) output_size torch.Size([30, 2])\n",
      "\tIn Model: input size torch.Size([15, 5]) output size torch.Size([15, 4])\n",
      "\tIn Model: input size torch.Size([15, 5]) output size torch.Size([15, 4])\n",
      "\tIn Model: input size\tIn Model: input size torch.Size([15, 4]) output size torch.Size([15, 2])\n",
      " torch.Size([15, 4]) output size torch.Size([15, 2])\n",
      "Outside: input size torch.Size([30, 5]) output_size torch.Size([30, 2])\n",
      "\tIn Model: input size\tIn Model: input size torch.Size([15, 5]) output size torch.Size([15, 4])\n",
      " torch.Size([15, 5]) output size torch.Size([15, 4])\n",
      "\tIn Model: input size\tIn Model: input size torch.Size([15, 4]) output size torch.Size([15, 2])\n",
      " torch.Size([15, 4]) output size torch.Size([15, 2])\n",
      "Outside: input size torch.Size([30, 5]) output_size torch.Size([30, 2])\n",
      "\tIn Model: input size torch.Size([5, 5]) output size \tIn Model: input size torch.Size([5, 5]) output size torch.Size([5, 4])\n",
      "torch.Size([5, 4])\n",
      "\tIn Model: input size\tIn Model: input size torch.Size([5, 4]) output size torch.Size([5, 2])\n",
      " torch.Size([5, 4]) output size torch.Size([5, 2])\n",
      "Outside: input size torch.Size([10, 5]) output_size torch.Size([10, 2])\n"
     ]
    }
   ],
   "source": [
    "for data in rand_loader:\n",
    "    input = data.to(device)\n",
    "    output = new_model(input)\n",
    "    print(\"Outside: input size\", input.size(),\n",
    "          \"output_size\", output.size())\n"
   ]
  },
  {
   "cell_type": "code",
   "execution_count": 25,
   "metadata": {},
   "outputs": [
    {
     "name": "stdout",
     "output_type": "stream",
     "text": [
      "Let's use 2 GPUs!\n"
     ]
    },
    {
     "data": {
      "text/plain": [
       "DataParallel(\n",
       "  (module): ComplexModel(\n",
       "    (blocks): ModuleList(\n",
       "      (0): Model(\n",
       "        (fc): Linear(in_features=5, out_features=4, bias=True)\n",
       "      )\n",
       "      (1): Model(\n",
       "        (fc): Linear(in_features=4, out_features=2, bias=True)\n",
       "      )\n",
       "    )\n",
       "  )\n",
       ")"
      ]
     },
     "execution_count": 25,
     "metadata": {},
     "output_type": "execute_result"
    }
   ],
   "source": [
    "model = Model(mid_size, output_size)\n",
    "model_common1 = Model(input_size, mid_size)\n",
    "model_common2 = Model(input_size, mid_size)\n",
    "complex_model1 = ComplexModel(block=[model_common1, model])\n",
    "complex_model2 = ComplexModel(block=[model_common2, model])\n",
    "if torch.cuda.device_count() > 1:\n",
    "    print(\"Let's use\", torch.cuda.device_count(), \"GPUs!\")\n",
    "    # dim = 0 [30, xxx] -> [10, ...], [10, ...], [10, ...] on 3 GPUs\n",
    "    model1 = nn.DataParallel(complex_model1)\n",
    "    model2 = nn.DataParallel(complex_model2)\n",
    "\n",
    "model1.to(device)\n",
    "model2.to(device)"
   ]
  },
  {
   "cell_type": "code",
   "execution_count": 26,
   "metadata": {},
   "outputs": [
    {
     "name": "stdout",
     "output_type": "stream",
     "text": [
      "\tIn Model: input size torch.Size([15, 5]) output size torch.Size([15, 4])\n",
      "\tIn Model: input size torch.Size([15, 5]) output size torch.Size([15, 4])\n",
      "\tIn Model: input size torch.Size([15, 4]) output size torch.Size([15, 2])\n",
      "\tIn Model: input size torch.Size([15, 4]) output size torch.Size([15, 2])\n",
      "Outside: input size torch.Size([30, 5]) output_size torch.Size([30, 2])\n",
      "\tIn Model: input size torch.Size([15, 5]) output size torch.Size([15, 4])\n",
      "\tIn Model: input size torch.Size([15, 5]) output size torch.Size([15, 4])\n",
      "\tIn Model: input size torch.Size([15, 4]) output size torch.Size([15, 2])\n",
      "\tIn Model: input size torch.Size([15, 4]) output size torch.Size([15, 2])\n",
      "Outside: input size torch.Size([30, 5]) output_size torch.Size([30, 2])\n",
      "\tIn Model: input size torch.Size([15, 5]) output size torch.Size([15, 4])\n",
      "\tIn Model: input size torch.Size([15, 4])\tIn Model: input size torch.Size([15, 5]) output size torch.Size([15, 4])\n",
      " output size torch.Size([15, 2])\n",
      "\tIn Model: input size torch.Size([15, 4]) output size torch.Size([15, 2])\n",
      "Outside: input size torch.Size([30, 5]) output_size torch.Size([30, 2])\n",
      "\tIn Model: input size torch.Size([5, 5]) output size torch.Size([5, 4])\n",
      "\tIn Model: input size torch.Size([5, 5]) output size torch.Size([5, 4])\n",
      "\tIn Model: input size torch.Size([5, 4]) \tIn Model: input sizeoutput size torch.Size([5, 2])\n",
      " torch.Size([5, 4]) output size torch.Size([5, 2])\n",
      "Outside: input size torch.Size([10, 5]) output_size torch.Size([10, 2])\n"
     ]
    }
   ],
   "source": [
    "for data in rand_loader:\n",
    "    input = data.to(device)\n",
    "    output = model1(input)\n",
    "    print(\"Outside: input size\", input.size(),\n",
    "          \"output_size\", output.size())"
   ]
  },
  {
   "cell_type": "code",
   "execution_count": 27,
   "metadata": {},
   "outputs": [
    {
     "name": "stdout",
     "output_type": "stream",
     "text": [
      "\tIn Model: input size torch.Size([15, 5]) \tIn Model: input size torch.Size([15, 5]) output size torch.Size([15, 4])\n",
      "output size torch.Size([15, 4])\n",
      "\tIn Model: input size torch.Size([15, 4]) output size torch.Size([15, 2])\n",
      "\tIn Model: input size torch.Size([15, 4]) output size torch.Size([15, 2])\n",
      "Outside: input size torch.Size([30, 5]) output_size torch.Size([30, 2])\n",
      "\tIn Model: input size torch.Size([15, 5]) output size torch.Size([15, 4])\n",
      "\tIn Model: input size torch.Size([15, 5]) output size \tIn Model: input sizetorch.Size([15, 4])\n",
      " torch.Size([15, 4]) output size torch.Size([15, 2])\n",
      "\tIn Model: input size torch.Size([15, 4]) output size torch.Size([15, 2])\n",
      "Outside: input size torch.Size([30, 5]) output_size torch.Size([30, 2])\n",
      "\tIn Model: input size torch.Size([15, 5]) output size torch.Size([15, 4])\n",
      "\tIn Model: input size\tIn Model: input size torch.Size([15, 5]) output size torch.Size([15, 4]) torch.Size([15, 4]) output size torch.Size([15, 2])\n",
      "\n",
      "\tIn Model: input size torch.Size([15, 4]) output size torch.Size([15, 2])\n",
      "Outside: input size torch.Size([30, 5]) output_size torch.Size([30, 2])\n",
      "\tIn Model: input size torch.Size([5, 5]) output size torch.Size([5, 4])\n",
      "\tIn Model: input size torch.Size([5, 5]) output size torch.Size([5, 4])\n",
      "\tIn Model: input size\tIn Model: input size torch.Size([5, 4]) output size torch.Size([5, 2])\n",
      " torch.Size([5, 4]) output size torch.Size([5, 2])\n",
      "Outside: input size torch.Size([10, 5]) output_size torch.Size([10, 2])\n"
     ]
    }
   ],
   "source": [
    "for data in rand_loader:\n",
    "    input = data.to(device)\n",
    "    output = model2(input)\n",
    "    print(\"Outside: input size\", input.size(),\n",
    "          \"output_size\", output.size())"
   ]
  },
  {
   "cell_type": "code",
   "execution_count": 28,
   "metadata": {},
   "outputs": [
    {
     "data": {
      "text/plain": [
       "device(type='cuda')"
      ]
     },
     "execution_count": 28,
     "metadata": {},
     "output_type": "execute_result"
    }
   ],
   "source": [
    "device"
   ]
  },
  {
   "cell_type": "code",
   "execution_count": 80,
   "metadata": {},
   "outputs": [
    {
     "name": "stdout",
     "output_type": "stream",
     "text": [
      "True\n"
     ]
    }
   ],
   "source": [
    "a = [1, 2, 3, 4, 5, 6]\n",
    "b = 1\n",
    "print(b in a)"
   ]
  },
  {
   "cell_type": "code",
   "execution_count": null,
   "metadata": {},
   "outputs": [],
   "source": []
  }
 ],
 "metadata": {
  "kernelspec": {
   "display_name": "Python 3",
   "language": "python",
   "name": "python3"
  },
  "language_info": {
   "codemirror_mode": {
    "name": "ipython",
    "version": 3
   },
   "file_extension": ".py",
   "mimetype": "text/x-python",
   "name": "python",
   "nbconvert_exporter": "python",
   "pygments_lexer": "ipython3",
   "version": "3.8.5"
  }
 },
 "nbformat": 4,
 "nbformat_minor": 4
}
